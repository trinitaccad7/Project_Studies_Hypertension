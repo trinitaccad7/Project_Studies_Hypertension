{
 "cells": [
  {
   "cell_type": "markdown",
   "id": "bfcd542f",
   "metadata": {},
   "source": [
    "# Introductions"
   ]
  },
  {
   "cell_type": "markdown",
   "id": "3d7e91d5",
   "metadata": {},
   "source": [
    "Hypertension has been known as one of the leading preventable risk factor for cardiovascular disease and responsible for approximately 50% of cardiovascular morbidity and mortality worldwide (1). In addition to being a major risk factor for cardiovascular disease, it was also found to be a risk factor for renal and cerebrovascular diseases (2). The associated risks of being diagnosed with hypertension was due to arterial wall modifications (during ageing), and the increased exposure to unhealthy lifestyle, such as unhealthy diets and lack of physical activities. This means that the adult population were at higher risks to suffer with hypertension, where those that were diagnosed with the disease falls in majority to the category of primary (essential) hypertension while a few hypertensive patients have secondary hypertension. To add context to the differences of the types of hypertension, primary hypertension was characterized as high blood pressure without an identifiable cause while secondary hypertension is caused by known disease or condition (3). Moreover, in a general sense, hypertension is characterized with chronic elevation of blood pressure, which in the long run would cause organ damage and eventually lead to a cascade of systematic problems in the body. Therefore, as a general practice, the blood pressure level of 140/90mm Hg became the general practice where treatment of hyppertension should begin to prevent chronic complications (3).\n",
    "\n",
    "For blood pressure regulation under physiological conditions, the Renin-Angiotensin Aldesteron system (RAAS) functions to regulate blood pressure and hydro-electrolytic balance. The RAAS system works by cleavage of the susbtrate Angeiotensinogen (AGT) into Angiotensin-I by the enzyme Renin, and then further cleaved by Angiotensin-Converting Enzyme (ACE) into Angiotensin-II, which was the key player in the system. WIth this biological knowledge of the RAAS sytem and its key functionality in the regulation of blood pressure, therapeutic drugs that functions as inhibitors of the enzymes that participate in the RAAS system, for instance, Renin inhibitors, ACE inhibitors, Angeiotensin-II type 1 receptor antagonists, and mineralocorticoid receptor antagonists, in turn would help regulate the disregulated RAAS system and treat/prevent the event of hypertesion to hypertensive patients (4).\n",
    "\n",
    "\n",
    "In the field of genetics and genomics, the Framingham Heart Study had recorded blood pressure data for three generations and with the absence of environmental factors, it was shown that children whose parents and grandparents diagnosed with hypertension had an increased risk of having the condition (6). In addition, a monogenic hypertension research had found that 12 genes (CYP11B1, CYP11B2, WNK1, WNK4, KLHL3, CUL3, SCNN1B, SCNN1G, CYP17A1, HSD11B2, NR3C2 and KCNJ5), such that 8 of these genes were involved in Mendelian syndromes causing Hypertension. Furthermore, 5 out of the 12 monogenic hypertension genes had upregulated expressions mutation while the remaining genes had downregulation expression mutation that led the reduction of inhibitory effects on blood pressure. Furthermore, the 12 genes in the study belonged to two groups of pathways, such as the renal sodium handling pathway and steroid hormone metabolism pathway (1). Another case control study of monogenic forms of hypertension, such that genes were identified to determine the key mechanisms in the pathophysiology aspect of hypertension, especially those involved in the RAAS, catecholamine/adrenergic system, renal kinin system, epithelial sodium channel, adducin, and including those involved in lipoprotein metabolism, hormone receptors, and growth factors. The list of genes found in this review include AGT variants, adregenic receptors (ADRA1B and ADRB2), dopamine D1 receptor (DRD1), AGTR1, REN, ACE, glucocorticoid-remediable aldosteronism (GRA), 11-β-hydroxylase (CYP11B1), aldosterone synthase (CYP11B2), epithelial sodium channel three subunits (SCNN1A, SCNN1B and SCNN1G) (6). \n",
    "\n",
    "Comments: Will be adding more as semester progresses..."
   ]
  },
  {
   "cell_type": "markdown",
   "id": "643186f8",
   "metadata": {},
   "source": [
    "## References\n",
    "1. Ehret, G. B., & Caulfield, M. J. (2013). Genes for blood pressure: an opportunity to understand hypertension. European heart journal, 34(13), 951–961. https://doi.org/10.1093/eurheartj/ehs455.\n",
    "2. Aliouche, H. (2023, January 16). The genetics of hypertension. News Medical Life Sciences. https://www.news-medical.net/health/The-Genetics-of-Hypertension.aspx \n",
    "3. Hegde S, Ahmed I, Aeddula NR. Secondary Hypertension. [Updated 2023 Jan 28]. In: StatPearls [Internet]. Treasure Island (FL): StatPearls Publishing; 2023 Jan-. Available from: https://www.ncbi.nlm.nih.gov/books/NBK544305/\n",
    "4. Information from KEGG Pathway, ID:hsa04614 (Acessed 2023 Jun 05). Minoru Kanehisa and others, KEGG for representation and analysis of molecular networks involving diseases and drugs, Nucleic Acids Research, Volume 38, Issue suppl_1, 1 January 2010, Pages D355–D360, https://doi.org/10.1093/nar/gkp896\n",
    "5. Foëx, P., & Sear, J. W. (2004). Hypertension: pathophysiology and treatment. Continuing Education in Anaesthesia Critical Care & Pain, 4(3), 71–75. doi:10.1093/bjaceaccp/mkh020\n",
    "6. Adua, E. Decoding the mechanism of hypertension through multiomics profiling. J Hum Hypertens 37, 253–264 (2023). https://doi.org/10.1038/s41371-022-00769-8 \n",
    "7. Amberger JS, Bocchini CA, Schiettecatte FJM, Scott AF, Hamosh A. OMIM.org: Online Mendelian Inheritance in Man (OMIM®), an online catalog of human genes and genetic disorders. Nucleic Acids Res. 2015 Jan;43(Database issue):D789-98. doi: 10.1093/nar/gku1205. PMID: 25428349."
   ]
  }
 ],
 "metadata": {
  "kernelspec": {
   "display_name": "Python 3 (ipykernel)",
   "language": "python",
   "name": "python3"
  },
  "language_info": {
   "codemirror_mode": {
    "name": "ipython",
    "version": 3
   },
   "file_extension": ".py",
   "mimetype": "text/x-python",
   "name": "python",
   "nbconvert_exporter": "python",
   "pygments_lexer": "ipython3",
   "version": "3.10.9"
  }
 },
 "nbformat": 4,
 "nbformat_minor": 5
}
